{
 "cells": [
  {
   "cell_type": "markdown",
   "metadata": {},
   "source": [
    "# Linear Discriminant Functions"
   ]
  },
  {
   "cell_type": "markdown",
   "metadata": {},
   "source": [
    "Linear discriminant functions are a simple method of classifying data into classes. The model takes in an input vector and produces a value that determines its class. Outputs greater than $0$ are typically labeled one class and outputs less than $0$ are labeled the other, with outputs of $0$ being ambiguous. \n",
    "\n",
    "We will be using the method of least squares to build linear discriminant functions and their corresponding decision boundaries, revealing the nature of least squares as well as its shortcomings. "
   ]
  },
  {
   "cell_type": "code",
   "execution_count": 1,
   "metadata": {},
   "outputs": [],
   "source": [
    "import matplotlib.pyplot as plt\n",
    "import numpy as np"
   ]
  },
  {
   "cell_type": "markdown",
   "metadata": {},
   "source": [
    "We first need to simulate some data. To make it linearly separable, we will sample from two sufficiently different distributions."
   ]
  },
  {
   "cell_type": "code",
   "execution_count": 2,
   "metadata": {},
   "outputs": [
    {
     "data": {
      "text/plain": [
       "[<matplotlib.lines.Line2D at 0x1b30f70cc88>]"
      ]
     },
     "execution_count": 2,
     "metadata": {},
     "output_type": "execute_result"
    },
    {
     "data": {
      "image/png": "[encoded data removed]",
      "text/plain": [
       "<Figure size 432x288 with 1 Axes>"
      ]
     },
     "metadata": {
      "needs_background": "light"
     },
     "output_type": "display_data"
    }
   ],
   "source": [
    "c1numpoints = 100\n",
    "c2numpoints = 100\n",
    "\n",
    "mu1 = np.array([1, 2])\n",
    "sigma1 = np.array([[3, 1.5], [1.5, 1]])\n",
    "c1 = np.random.multivariate_normal(mu1, sigma1, c1numpoints)\n",
    "\n",
    "mu2 = np.array([1, -2])\n",
    "sigma2 = np.array([[3, 1.5], [1.5, 1]])\n",
    "c2 = np.random.multivariate_normal(mu2, sigma2, c2numpoints)\n",
    "\n",
    "plt.plot(c1[:, 0], c1[:, 1], 'b.')\n",
    "plt.plot(c2[:, 0], c2[:, 1], 'r+')"
   ]
  },
  {
   "cell_type": "markdown",
   "metadata": {},
   "source": [
    "It isn't too hard to visualize where the boundary between the two classes will be drawn. However, we will mathematically decide the boundary through least squares.\n",
    "\n",
    "The model assumption we will be making is that each class can be described by a linear relationship given by \n",
    "\n",
    "$$y_{k}(\\textbf{x}) = \\textbf{w}_{k}^T \\textbf{x} + w_{k0}$$ \n",
    "\n",
    "Note that the number of classes k ranges from $1 \\text{ to } K$ and both $\\tilde{\\textbf{w}_{k}} \\text{ and } x \\text{ are } D+1 $ dimensional. By combining the $\\textbf{w}_{k}$ and $w_{k0}$ into $\\tilde{\\textbf{w}_{k}} = (w_{k0}, \\textbf{w}_{k}^T)^T$ we can write $\\tilde{\\textbf{W}} = (\\tilde{\\textbf{w}_{1}}, \\tilde{\\textbf{w}_{2}}, ... , \\tilde{\\textbf{w}_{K}})$ and rewrite our previous equation as \n",
    "\n",
    "$$ \\textbf{y}(\\textbf{x}) = \\tilde{\\textbf{W}}^T \\tilde{\\textbf{x}}$$\n",
    "\n",
    "where $\\tilde{\\textbf{W}}$ is $D+1 \\text{ by } K$ dimensional. \n",
    "\n",
    "Now suppose our training data took the form $(x_{n}, t_{n})$, where $t_{n}$ is an indicator vector and $n$ ranges from $1 \\text{ to } N$. That is, we have $N$ data points. \n",
    "\n",
    "If we define $T = (\\textbf{t}_{1}^T, \\textbf{t}_{2}^T, ..., \\textbf{t}_{N}^T)$ to be the matrix whose columns are our correct classifications, then $\\tilde{X}\\tilde{W}$ will give us the model classifications, which may or may not be correct. Thus our sum-of-squares error function will look like the following:\n",
    "\n",
    "$$E_{D}(\\tilde{\\textbf{W}}) = \\frac{1}{N}Tr((\\tilde{X}\\tilde{W} - T)^T(\\tilde{X}\\tilde{W} - T))$$\n",
    "\n",
    "We use the trace here to ensure the model classifications for $x_{n}$ are compared to $t_{n}$ and not some other $t_{i}$, which we are not interested in.\n",
    "\n",
    "As usual, we set the derivative to zero and solve for the minimum to get \n",
    "\n",
    "$$ \\tilde{W} = (\\tilde{X}^T\\tilde{X})^{-1}\\tilde{X}^T T = \\tilde{X}^{\\dagger}T$$\n",
    "\n",
    "This is exactly what we do in the following code."
   ]
  },
  {
   "cell_type": "code",
   "execution_count": 3,
   "metadata": {},
   "outputs": [
    {
     "data": {
      "text/plain": [
       "[<matplotlib.lines.Line2D at 0x1b3129958d0>]"
      ]
     },
     "execution_count": 3,
     "metadata": {},
     "output_type": "execute_result"
    },
    {
     "data": {
      "image/png": "[encoded data removed]",
      "text/plain": [
       "<Figure size 432x288 with 1 Axes>"
      ]
     },
     "metadata": {
      "needs_background": "light"
     },
     "output_type": "display_data"
    }
   ],
   "source": [
    "xtilde = np.vstack((np.hstack((np.ones((c1numpoints, 1)), c1)), \n",
    "                    np.hstack((np.ones((c2numpoints, 1)), c2))))\n",
    "T = np.vstack((np.hstack((np.ones((c1numpoints, 1)), np.zeros((c1numpoints, 1)))), \n",
    "               np.hstack((np.zeros((c2numpoints, 1)), np.ones((c2numpoints, 1))))))\n",
    "\n",
    "wtilde = np.matmul(np.linalg.pinv(xtilde), T)\n",
    "x = np.linspace(-4, 6, 10000)\n",
    "wdec = wtilde[:, 0] - wtilde[:, 1]\n",
    "y = (-wdec[0] - (wdec[1] * x)) / wdec[2]\n",
    "\n",
    "plt.plot(c1[:, 0], c1[:, 1], 'b.')\n",
    "plt.plot(c2[:, 0], c2[:, 1], 'r+')\n",
    "plt.plot(x, y, 'k-')"
   ]
  },
  {
   "cell_type": "markdown",
   "metadata": {},
   "source": [
    "Not bad! The linear discriminant function plays nice with relatively consistent distributions that are linearly separable, but data is rarely that organized. We can play around with different distributions to see their effects on the decision boundary. "
   ]
  },
  {
   "cell_type": "code",
   "execution_count": 4,
   "metadata": {},
   "outputs": [],
   "source": [
    "def lindiscr(c1num, c2num, mu1, sig1, mu2, sig2):\n",
    "    \n",
    "    c1 = np.random.multivariate_normal(mu1, sig1, c1num)\n",
    "    c2 = np.random.multivariate_normal(mu2, sig2, c2num)\n",
    "\n",
    "    xtilde = np.vstack((np.hstack((np.ones((c1num, 1)), c1)), \n",
    "                        np.hstack((np.ones((c2num, 1)), c2))))\n",
    "    T = np.vstack((np.hstack((np.ones((c1num, 1)), np.zeros((c1num, 1)))), \n",
    "                   np.hstack((np.zeros((c2num, 1)), np.ones((c2num, 1))))))\n",
    "\n",
    "    wtilde = np.matmul(np.linalg.pinv(xtilde), T)\n",
    "    x = np.linspace(-4, 6, 10000)\n",
    "    wdec = wtilde[:, 0] - wtilde[:, 1]\n",
    "    y = (-wdec[0] - (wdec[1] * x)) / wdec[2]\n",
    "\n",
    "    plt.plot(c1[:, 0], c1[:, 1], 'b.')\n",
    "    plt.plot(c2[:, 0], c2[:, 1], 'r+')\n",
    "    plt.plot(x, y, 'k-')"
   ]
  },
  {
   "cell_type": "code",
   "execution_count": 5,
   "metadata": {},
   "outputs": [
    {
     "data": {
      "image/png": "[encoded data removed]",
      "text/plain": [
       "<Figure size 432x288 with 1 Axes>"
      ]
     },
     "metadata": {
      "needs_background": "light"
     },
     "output_type": "display_data"
    }
   ],
   "source": [
    "lindiscr(100, 100, np.array([1, 2]), np.array([[3, 1.5], [1.5, 1]]), np.array([1, -2]), np.array([[2, 1], [1, 2]]))"
   ]
  },
  {
   "cell_type": "code",
   "execution_count": 6,
   "metadata": {},
   "outputs": [
    {
     "data": {
      "image/png": "[encoded data removed]",
      "text/plain": [
       "<Figure size 432x288 with 1 Axes>"
      ]
     },
     "metadata": {
      "needs_background": "light"
     },
     "output_type": "display_data"
    }
   ],
   "source": [
    "lindiscr(100, 10, np.array([1, 2]), np.array([[3, 1.5], [1.5, 1]]), np.array([1, -2]), np.array([[2, 1], [1, 2]]))"
   ]
  },
  {
   "cell_type": "code",
   "execution_count": 7,
   "metadata": {},
   "outputs": [
    {
     "data": {
      "image/png": "[encoded data removed]",
      "text/plain": [
       "<Figure size 432x288 with 1 Axes>"
      ]
     },
     "metadata": {
      "needs_background": "light"
     },
     "output_type": "display_data"
    }
   ],
   "source": [
    "lindiscr(100, 100, np.array([1, 2]), np.array([[3, 1.5], [1.5, 1]]), np.array([1, 0]), np.array([[2, 1], [1, 2]]))"
   ]
  },
  {
   "cell_type": "code",
   "execution_count": 8,
   "metadata": {},
   "outputs": [
    {
     "data": {
      "text/plain": [
       "[<matplotlib.lines.Line2D at 0x1b312b4d748>]"
      ]
     },
     "execution_count": 8,
     "metadata": {},
     "output_type": "execute_result"
    },
    {
     "data": {
      "image/png": "[encoded data removed]",
      "text/plain": [
       "<Figure size 432x288 with 1 Axes>"
      ]
     },
     "metadata": {
      "needs_background": "light"
     },
     "output_type": "display_data"
    }
   ],
   "source": [
    "c1numpoints = int(100)\n",
    "c2numpoints = int(100)\n",
    "\n",
    "mu1 = np.array([1, 2])\n",
    "sigma1 = np.array([[3, 1.5], [1.5, 1]])\n",
    "c1 = np.random.multivariate_normal(mu1, sigma1, c1numpoints)\n",
    "\n",
    "mu2 = np.array([1, -1])\n",
    "sigma2 = np.array([[2, 1], [1, 2]])\n",
    "c21 = np.random.multivariate_normal(mu2, sigma2, (c2numpoints//2))\n",
    "\n",
    "mu3 = np.array([5, -5])\n",
    "sigma3 = np.array([[0.5, 0], [0, 0.5]])\n",
    "c22 = np.random.multivariate_normal(mu3, sigma3, (c2numpoints//2))\n",
    "c2 = np.vstack((c21, c22))\n",
    "\n",
    "xtilde = np.vstack((np.hstack((np.ones((c1numpoints, 1)), c1)), \n",
    "                    np.hstack((np.ones((c2numpoints, 1)), c2))))\n",
    "T = np.vstack((np.hstack((np.ones((c1numpoints, 1)), np.zeros((c1numpoints, 1)))), \n",
    "               np.hstack((np.zeros((c2numpoints, 1)), np.ones((c2numpoints, 1))))))\n",
    "\n",
    "wtilde = np.matmul(np.linalg.pinv(xtilde), T)\n",
    "x = np.linspace(-4, 6, 10000)\n",
    "wdec = wtilde[:, 0] - wtilde[:, 1]\n",
    "y = (-wdec[0] - (wdec[1] * x)) / wdec[2]\n",
    "\n",
    "plt.plot(c1[:, 0], c1[:, 1], 'b.')\n",
    "plt.plot(c2[:, 0], c2[:, 1], 'r+')\n",
    "plt.plot(x, y, 'k-')"
   ]
  },
  {
   "cell_type": "markdown",
   "metadata": {},
   "source": [
    "This example is noteworthy, as it showcases the glaring issue with using a least squares approach. Outlier data, which can be considered \"certainly\" belonging to a class actually shifts the decision boundary. Of course, "
   ]
  },
  {
   "cell_type": "code",
   "execution_count": 9,
   "metadata": {},
   "outputs": [
    {
     "data": {
      "text/plain": [
       "[<matplotlib.lines.Line2D at 0x1b312dcda20>]"
      ]
     },
     "execution_count": 9,
     "metadata": {},
     "output_type": "execute_result"
    },
    {
     "data": {
      "image/png": "[encoded data removed]",
      "text/plain": [
       "<Figure size 432x288 with 1 Axes>"
      ]
     },
     "metadata": {
      "needs_background": "light"
     },
     "output_type": "display_data"
    }
   ],
   "source": [
    "c1numpoints = 100\n",
    "c2numpoints = 100\n",
    "\n",
    "mu1 = 1\n",
    "sigma1 = 2\n",
    "noise1 = np.array([np.random.normal(mu1, sigma1, 100)])\n",
    "\n",
    "mu2 = 1\n",
    "sigma2 = 1\n",
    "noise2 = np.array([np.random.normal(mu2, sigma2, 100)])\n",
    "\n",
    "c1x = np.array([np.linspace(-2, 2, c1numpoints)])\n",
    "c1y = c1x**2 + noise1\n",
    "\n",
    "c2x = np.array([np.linspace(0, 4, c2numpoints)])\n",
    "c2y = -(c2x**2 + noise2)\n",
    "\n",
    "plt.plot(c1x, c1y, 'b.')\n",
    "plt.plot(c2x, c2y, 'r+')\n",
    "\n",
    "xtilde = np.vstack((np.hstack((np.ones((c1numpoints, 1)), np.hstack((c1x.T, c1y.T)))), \n",
    "                    np.hstack((np.ones((c2numpoints, 1)), np.hstack((c2x.T, c2y.T))))))\n",
    "T = np.vstack((np.hstack((np.ones((c1numpoints, 1)), np.zeros((c1numpoints, 1)))), \n",
    "               np.hstack((np.zeros((c2numpoints, 1)), np.ones((c2numpoints, 1))))))\n",
    "\n",
    "wtilde = np.matmul(np.linalg.pinv(xtilde), T)\n",
    "x = np.linspace(-4, 6, 10000)\n",
    "wdec = wtilde[:, 0] - wtilde[:, 1]\n",
    "y = (-wdec[0] - (wdec[1] * x)) / wdec[2]\n",
    "\n",
    "plt.plot(c1x, c1y, 'b.')\n",
    "plt.plot(c2x, c2y, 'r+')\n",
    "plt.plot(x, y, 'k-')"
   ]
  },
  {
   "cell_type": "code",
   "execution_count": 11,
   "metadata": {},
   "outputs": [
    {
     "data": {
      "text/plain": [
       "array([[ 1.00000000e+00, -2.00000000e+00,  5.15184345e+00],\n",
       "       [ 1.00000000e+00, -1.95959596e+00,  7.49366265e+00],\n",
       "       [ 1.00000000e+00, -1.91919192e+00,  4.03931367e+00],\n",
       "       [ 1.00000000e+00, -1.87878788e+00,  8.35182032e+00],\n",
       "       [ 1.00000000e+00, -1.83838384e+00,  5.30403840e+00],\n",
       "       [ 1.00000000e+00, -1.79797980e+00,  3.70299154e+00],\n",
       "       [ 1.00000000e+00, -1.75757576e+00,  6.59716199e+00],\n",
       "       [ 1.00000000e+00, -1.71717172e+00,  7.87913768e+00],\n",
       "       [ 1.00000000e+00, -1.67676768e+00,  3.03869582e+00],\n",
       "       [ 1.00000000e+00, -1.63636364e+00,  2.88481009e+00],\n",
       "       [ 1.00000000e+00, -1.59595960e+00,  3.22129065e+00],\n",
       "       [ 1.00000000e+00, -1.55555556e+00,  2.07229062e+00],\n",
       "       [ 1.00000000e+00, -1.51515152e+00,  3.29607307e+00],\n",
       "       [ 1.00000000e+00, -1.47474747e+00,  5.61848569e+00],\n",
       "       [ 1.00000000e+00, -1.43434343e+00,  5.83824492e+00],\n",
       "       [ 1.00000000e+00, -1.39393939e+00,  1.71621201e+00],\n",
       "       [ 1.00000000e+00, -1.35353535e+00,  1.14732726e+00],\n",
       "       [ 1.00000000e+00, -1.31313131e+00,  6.33573764e+00],\n",
       "       [ 1.00000000e+00, -1.27272727e+00,  2.75286316e+00],\n",
       "       [ 1.00000000e+00, -1.23232323e+00, -2.25278001e-01],\n",
       "       [ 1.00000000e+00, -1.19191919e+00,  2.07988984e+00],\n",
       "       [ 1.00000000e+00, -1.15151515e+00,  8.04303549e-01],\n",
       "       [ 1.00000000e+00, -1.11111111e+00,  2.77062967e+00],\n",
       "       [ 1.00000000e+00, -1.07070707e+00,  2.10053041e+00],\n",
       "       [ 1.00000000e+00, -1.03030303e+00,  1.13939955e+00],\n",
       "       [ 1.00000000e+00, -9.89898990e-01,  4.25155613e+00],\n",
       "       [ 1.00000000e+00, -9.49494949e-01,  4.78333678e+00],\n",
       "       [ 1.00000000e+00, -9.09090909e-01,  1.53762717e+00],\n",
       "       [ 1.00000000e+00, -8.68686869e-01,  1.62859790e+00],\n",
       "       [ 1.00000000e+00, -8.28282828e-01,  1.78858816e+00],\n",
       "       [ 1.00000000e+00, -7.87878788e-01,  2.31384676e+00],\n",
       "       [ 1.00000000e+00, -7.47474747e-01,  1.23318786e+00],\n",
       "       [ 1.00000000e+00, -7.07070707e-01,  2.77305720e+00],\n",
       "       [ 1.00000000e+00, -6.66666667e-01,  1.69745698e-01],\n",
       "       [ 1.00000000e+00, -6.26262626e-01,  9.42831418e-01],\n",
       "       [ 1.00000000e+00, -5.85858586e-01,  1.97987046e+00],\n",
       "       [ 1.00000000e+00, -5.45454545e-01,  6.20138115e-01],\n",
       "       [ 1.00000000e+00, -5.05050505e-01,  2.97819884e+00],\n",
       "       [ 1.00000000e+00, -4.64646465e-01, -4.62565213e+00],\n",
       "       [ 1.00000000e+00, -4.24242424e-01,  4.38916459e+00],\n",
       "       [ 1.00000000e+00, -3.83838384e-01,  1.11876000e+00],\n",
       "       [ 1.00000000e+00, -3.43434343e-01,  2.55359401e+00],\n",
       "       [ 1.00000000e+00, -3.03030303e-01,  5.68525678e-01],\n",
       "       [ 1.00000000e+00, -2.62626263e-01,  6.23865796e+00],\n",
       "       [ 1.00000000e+00, -2.22222222e-01,  6.43613795e+00],\n",
       "       [ 1.00000000e+00, -1.81818182e-01,  2.11785055e+00],\n",
       "       [ 1.00000000e+00, -1.41414141e-01, -1.93166579e-02],\n",
       "       [ 1.00000000e+00, -1.01010101e-01, -2.31227709e+00],\n",
       "       [ 1.00000000e+00, -6.06060606e-02, -5.14643468e-01],\n",
       "       [ 1.00000000e+00, -2.02020202e-02,  1.04901041e+00],\n",
       "       [ 1.00000000e+00,  2.02020202e-02,  2.26092619e+00],\n",
       "       [ 1.00000000e+00,  6.06060606e-02,  4.18329259e+00],\n",
       "       [ 1.00000000e+00,  1.01010101e-01,  6.78080816e-01],\n",
       "       [ 1.00000000e+00,  1.41414141e-01, -8.73081253e-04],\n",
       "       [ 1.00000000e+00,  1.81818182e-01,  6.54890662e-01],\n",
       "       [ 1.00000000e+00,  2.22222222e-01, -6.10263708e-01],\n",
       "       [ 1.00000000e+00,  2.62626263e-01,  1.29699807e+00],\n",
       "       [ 1.00000000e+00,  3.03030303e-01, -2.61350137e-01],\n",
       "       [ 1.00000000e+00,  3.43434343e-01,  1.12211175e+00],\n",
       "       [ 1.00000000e+00,  3.83838384e-01,  1.29325394e+00],\n",
       "       [ 1.00000000e+00,  4.24242424e-01,  1.83838779e+00],\n",
       "       [ 1.00000000e+00,  4.64646465e-01,  3.71433663e+00],\n",
       "       [ 1.00000000e+00,  5.05050505e-01,  3.56258317e+00],\n",
       "       [ 1.00000000e+00,  5.45454545e-01, -4.33491869e+00],\n",
       "       [ 1.00000000e+00,  5.85858586e-01,  3.47335271e+00],\n",
       "       [ 1.00000000e+00,  6.26262626e-01,  2.10202866e+00],\n",
       "       [ 1.00000000e+00,  6.66666667e-01,  3.65306904e+00],\n",
       "       [ 1.00000000e+00,  7.07070707e-01,  3.56285773e+00],\n",
       "       [ 1.00000000e+00,  7.47474747e-01, -1.48539102e-01],\n",
       "       [ 1.00000000e+00,  7.87878788e-01, -5.71821467e-01],\n",
       "       [ 1.00000000e+00,  8.28282828e-01,  4.53133812e+00],\n",
       "       [ 1.00000000e+00,  8.68686869e-01,  1.99162375e+00],\n",
       "       [ 1.00000000e+00,  9.09090909e-01,  2.34719182e+00],\n",
       "       [ 1.00000000e+00,  9.49494949e-01, -1.46626157e+00],\n",
       "       [ 1.00000000e+00,  9.89898990e-01,  3.98476775e+00],\n",
       "       [ 1.00000000e+00,  1.03030303e+00,  1.17605762e+00],\n",
       "       [ 1.00000000e+00,  1.07070707e+00,  1.81180966e+00],\n",
       "       [ 1.00000000e+00,  1.11111111e+00,  6.86702214e+00],\n",
       "       [ 1.00000000e+00,  1.15151515e+00,  3.99494007e-02],\n",
       "       [ 1.00000000e+00,  1.19191919e+00,  2.85853859e+00],\n",
       "       [ 1.00000000e+00,  1.23232323e+00,  8.61128193e-01],\n",
       "       [ 1.00000000e+00,  1.27272727e+00,  2.63972977e+00],\n",
       "       [ 1.00000000e+00,  1.31313131e+00,  1.50779409e+00],\n",
       "       [ 1.00000000e+00,  1.35353535e+00,  2.05589805e+00],\n",
       "       [ 1.00000000e+00,  1.39393939e+00,  6.97998534e-02],\n",
       "       [ 1.00000000e+00,  1.43434343e+00,  7.34388510e+00],\n",
       "       [ 1.00000000e+00,  1.47474747e+00,  3.75769496e+00],\n",
       "       [ 1.00000000e+00,  1.51515152e+00,  3.07069184e+00],\n",
       "       [ 1.00000000e+00,  1.55555556e+00,  3.46528109e+00],\n",
       "       [ 1.00000000e+00,  1.59595960e+00,  1.54701519e+00],\n",
       "       [ 1.00000000e+00,  1.63636364e+00,  4.32083801e+00],\n",
       "       [ 1.00000000e+00,  1.67676768e+00,  3.86004951e+00],\n",
       "       [ 1.00000000e+00,  1.71717172e+00,  4.05849287e+00],\n",
       "       [ 1.00000000e+00,  1.75757576e+00,  3.16918424e+00],\n",
       "       [ 1.00000000e+00,  1.79797980e+00,  3.61883667e+00],\n",
       "       [ 1.00000000e+00,  1.83838384e+00,  4.22493157e+00],\n",
       "       [ 1.00000000e+00,  1.87878788e+00,  4.23987552e+00],\n",
       "       [ 1.00000000e+00,  1.91919192e+00,  6.44097640e+00],\n",
       "       [ 1.00000000e+00,  1.95959596e+00,  1.35398408e+00],\n",
       "       [ 1.00000000e+00,  2.00000000e+00,  5.77820386e+00],\n",
       "       [ 1.00000000e+00,  0.00000000e+00, -2.56591727e+00],\n",
       "       [ 1.00000000e+00,  4.04040404e-02, -1.75861780e+00],\n",
       "       [ 1.00000000e+00,  8.08080808e-02, -1.03632606e+00],\n",
       "       [ 1.00000000e+00,  1.21212121e-01, -2.21822343e-01],\n",
       "       [ 1.00000000e+00,  1.61616162e-01, -1.05963509e+00],\n",
       "       [ 1.00000000e+00,  2.02020202e-01, -1.21003094e+00],\n",
       "       [ 1.00000000e+00,  2.42424242e-01, -8.61782100e-01],\n",
       "       [ 1.00000000e+00,  2.82828283e-01, -1.73738150e-01],\n",
       "       [ 1.00000000e+00,  3.23232323e-01, -1.53642201e+00],\n",
       "       [ 1.00000000e+00,  3.63636364e-01, -1.45241078e+00],\n",
       "       [ 1.00000000e+00,  4.04040404e-01,  9.01928253e-03],\n",
       "       [ 1.00000000e+00,  4.44444444e-01, -1.91066256e+00],\n",
       "       [ 1.00000000e+00,  4.84848485e-01, -7.13569088e-01],\n",
       "       [ 1.00000000e+00,  5.25252525e-01,  8.14917087e-02],\n",
       "       [ 1.00000000e+00,  5.65656566e-01, -2.62051291e+00],\n",
       "       [ 1.00000000e+00,  6.06060606e-01, -9.25675494e-01],\n",
       "       [ 1.00000000e+00,  6.46464646e-01, -1.97508634e+00],\n",
       "       [ 1.00000000e+00,  6.86868687e-01, -2.80483637e+00],\n",
       "       [ 1.00000000e+00,  7.27272727e-01, -2.00888517e+00],\n",
       "       [ 1.00000000e+00,  7.67676768e-01, -2.09279058e+00],\n",
       "       [ 1.00000000e+00,  8.08080808e-01, -1.03436530e+00],\n",
       "       [ 1.00000000e+00,  8.48484848e-01, -4.07098848e+00],\n",
       "       [ 1.00000000e+00,  8.88888889e-01, -1.17410598e+00],\n",
       "       [ 1.00000000e+00,  9.29292929e-01, -2.52869788e+00],\n",
       "       [ 1.00000000e+00,  9.69696970e-01, -2.33801932e+00],\n",
       "       [ 1.00000000e+00,  1.01010101e+00, -1.11285650e+00],\n",
       "       [ 1.00000000e+00,  1.05050505e+00, -1.95836897e-01],\n",
       "       [ 1.00000000e+00,  1.09090909e+00, -1.94297941e+00],\n",
       "       [ 1.00000000e+00,  1.13131313e+00, -3.80128734e+00],\n",
       "       [ 1.00000000e+00,  1.17171717e+00, -2.05279101e+00],\n",
       "       [ 1.00000000e+00,  1.21212121e+00, -4.36982348e+00],\n",
       "       [ 1.00000000e+00,  1.25252525e+00, -2.62225366e+00],\n",
       "       [ 1.00000000e+00,  1.29292929e+00, -3.29815307e+00],\n",
       "       [ 1.00000000e+00,  1.33333333e+00, -3.42250847e+00],\n",
       "       [ 1.00000000e+00,  1.37373737e+00, -4.77284940e+00],\n",
       "       [ 1.00000000e+00,  1.41414141e+00, -2.96726798e+00],\n",
       "       [ 1.00000000e+00,  1.45454545e+00, -3.88574659e+00],\n",
       "       [ 1.00000000e+00,  1.49494949e+00, -4.21273762e+00],\n",
       "       [ 1.00000000e+00,  1.53535354e+00, -3.71539604e+00],\n",
       "       [ 1.00000000e+00,  1.57575758e+00, -3.98599545e+00],\n",
       "       [ 1.00000000e+00,  1.61616162e+00, -2.61247850e+00],\n",
       "       [ 1.00000000e+00,  1.65656566e+00, -3.52521990e+00],\n",
       "       [ 1.00000000e+00,  1.69696970e+00, -4.05917923e+00],\n",
       "       [ 1.00000000e+00,  1.73737374e+00, -3.77134829e+00],\n",
       "       [ 1.00000000e+00,  1.77777778e+00, -5.28727533e+00],\n",
       "       [ 1.00000000e+00,  1.81818182e+00, -5.86185115e+00],\n",
       "       [ 1.00000000e+00,  1.85858586e+00, -5.21278705e+00],\n",
       "       [ 1.00000000e+00,  1.89898990e+00, -4.82709673e+00],\n",
       "       [ 1.00000000e+00,  1.93939394e+00, -4.43588671e+00],\n",
       "       [ 1.00000000e+00,  1.97979798e+00, -4.30678388e+00],\n",
       "       [ 1.00000000e+00,  2.02020202e+00, -5.23878757e+00],\n",
       "       [ 1.00000000e+00,  2.06060606e+00, -3.72747398e+00],\n",
       "       [ 1.00000000e+00,  2.10101010e+00, -5.72106486e+00],\n",
       "       [ 1.00000000e+00,  2.14141414e+00, -5.31299877e+00],\n",
       "       [ 1.00000000e+00,  2.18181818e+00, -6.21676758e+00],\n",
       "       [ 1.00000000e+00,  2.22222222e+00, -5.64458168e+00],\n",
       "       [ 1.00000000e+00,  2.26262626e+00, -6.70563850e+00],\n",
       "       [ 1.00000000e+00,  2.30303030e+00, -7.04080859e+00],\n",
       "       [ 1.00000000e+00,  2.34343434e+00, -7.86075397e+00],\n",
       "       [ 1.00000000e+00,  2.38383838e+00, -6.45055885e+00],\n",
       "       [ 1.00000000e+00,  2.42424242e+00, -7.96107265e+00],\n",
       "       [ 1.00000000e+00,  2.46464646e+00, -7.01965450e+00],\n",
       "       [ 1.00000000e+00,  2.50505051e+00, -7.12014831e+00],\n",
       "       [ 1.00000000e+00,  2.54545455e+00, -7.87274442e+00],\n",
       "       [ 1.00000000e+00,  2.58585859e+00, -8.61400417e+00],\n",
       "       [ 1.00000000e+00,  2.62626263e+00, -9.01231100e+00],\n",
       "       [ 1.00000000e+00,  2.66666667e+00, -7.37728309e+00],\n",
       "       [ 1.00000000e+00,  2.70707071e+00, -7.23203401e+00],\n",
       "       [ 1.00000000e+00,  2.74747475e+00, -9.54358399e+00],\n",
       "       [ 1.00000000e+00,  2.78787879e+00, -9.84692611e+00],\n",
       "       [ 1.00000000e+00,  2.82828283e+00, -8.85027687e+00],\n",
       "       [ 1.00000000e+00,  2.86868687e+00, -8.34160007e+00],\n",
       "       [ 1.00000000e+00,  2.90909091e+00, -9.07985464e+00],\n",
       "       [ 1.00000000e+00,  2.94949495e+00, -9.72525264e+00],\n",
       "       [ 1.00000000e+00,  2.98989899e+00, -9.50514470e+00],\n",
       "       [ 1.00000000e+00,  3.03030303e+00, -1.04574035e+01],\n",
       "       [ 1.00000000e+00,  3.07070707e+00, -9.50735785e+00],\n",
       "       [ 1.00000000e+00,  3.11111111e+00, -9.78596305e+00],\n",
       "       [ 1.00000000e+00,  3.15151515e+00, -1.25783339e+01],\n",
       "       [ 1.00000000e+00,  3.19191919e+00, -1.05601661e+01],\n",
       "       [ 1.00000000e+00,  3.23232323e+00, -1.26493491e+01],\n",
       "       [ 1.00000000e+00,  3.27272727e+00, -1.12406793e+01],\n",
       "       [ 1.00000000e+00,  3.31313131e+00, -1.29844930e+01],\n",
       "       [ 1.00000000e+00,  3.35353535e+00, -1.30187901e+01],\n",
       "       [ 1.00000000e+00,  3.39393939e+00, -1.15718654e+01],\n",
       "       [ 1.00000000e+00,  3.43434343e+00, -1.31353032e+01],\n",
       "       [ 1.00000000e+00,  3.47474747e+00, -1.29536224e+01],\n",
       "       [ 1.00000000e+00,  3.51515152e+00, -1.31384691e+01],\n",
       "       [ 1.00000000e+00,  3.55555556e+00, -1.33972844e+01],\n",
       "       [ 1.00000000e+00,  3.59595960e+00, -1.39972764e+01],\n",
       "       [ 1.00000000e+00,  3.63636364e+00, -1.27042664e+01],\n",
       "       [ 1.00000000e+00,  3.67676768e+00, -1.63028162e+01],\n",
       "       [ 1.00000000e+00,  3.71717172e+00, -1.22013034e+01],\n",
       "       [ 1.00000000e+00,  3.75757576e+00, -1.60552381e+01],\n",
       "       [ 1.00000000e+00,  3.79797980e+00, -1.68832928e+01],\n",
       "       [ 1.00000000e+00,  3.83838384e+00, -1.75378787e+01],\n",
       "       [ 1.00000000e+00,  3.87878788e+00, -1.61789569e+01],\n",
       "       [ 1.00000000e+00,  3.91919192e+00, -1.50781695e+01],\n",
       "       [ 1.00000000e+00,  3.95959596e+00, -1.68063517e+01],\n",
       "       [ 1.00000000e+00,  4.00000000e+00, -1.58584572e+01]])"
      ]
     },
     "execution_count": 11,
     "metadata": {},
     "output_type": "execute_result"
    }
   ],
   "source": [
    "xtilde"
   ]
  }
 ],
 "metadata": {
  "kernelspec": {
   "display_name": "Python 3",
   "language": "python",
   "name": "python3"
  },
  "language_info": {
   "codemirror_mode": {
    "name": "ipython",
    "version": 3
   },
   "file_extension": ".py",
   "mimetype": "text/x-python",
   "name": "python",
   "nbconvert_exporter": "python",
   "pygments_lexer": "ipython3",
   "version": "3.7.3"
  }
 },
 "nbformat": 4,
 "nbformat_minor": 2
}
